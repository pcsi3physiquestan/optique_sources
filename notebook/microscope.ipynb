{
 "cells": [
  {
   "cell_type": "markdown",
   "id": "educational-helping",
   "metadata": {},
   "source": [
    "# Etude de systèmes optiques multilentilles\n",
    "## Position du problème\n",
    "On considère un microscope constitué :\n",
    "* d'un objectif réalisé par une lentille mince de distance focale $f_{obj} = 4mm$ placé au point O.\n",
    "* d'un oculaire dit de Ramsden constitué de deux lentilles minces de même distance focale de distance focale $f_2 = f_3 = 3cm$ distantes de $\\overline{O_2 O_3} = {2 \\over 3}f_3$\n",
    "* la distance entre l'objectif et la première lentille de l'oculaire est $\\Delta = 18cm$ (on l'appellera _intervale optique_).\n",
    "\n",
    "Le but de l'exercice est de trouver par simulation numérique, puis par le calcul où placer un objet (de taille 1U.A.) pour que l'image finale soit à l'infini.\n",
    "\n",
    "On place l'origine de l'axe optique à l'emplacement de l'objectif et on suppose que le systèmes vérifient les conditions de Gauss.\n",
    "\n",
    "## Modélisation sous Python\n",
    "* On va modéliser un objet (ou une image) par une liste de deux éléments `[x, d]` correspondant à sa position $x$ sur l'axe optique et sa taille transverse $d$.\n",
    "    * Dans la suite, si on utilie comme argument d'une fonction un objet (donc une liste de deux éléments), il sera appelé `obj` ou `obj1, obj2, ...`.\n",
    "* On va modéliser une lentille mince par une liste de deux éléments `[x, f]` correspondant à sa position $x$ sur l'axe optique et sa distance focale $f'$.\n",
    "    * Dans la suite, si on utilie comme arguments d'une fonction une lentille (donc une liste de deux éléments), il sera appelé `L` ou `L1, L2, ...`.\n",
    "\n",
    "> __Exercice :__  \n",
    "> 1. Comment appelle-t-on le point sur l'axe optique où doit être placé l'objet?\n",
    "> 2. Ecrire une fonction `image(L, obj)` qui renvoie les caractéristiques d'une image (liste à deux éléments) d'un objet `obj` par une lentille `L`.\n",
    "> 3. Ecrire une fonction `microscope(fobj, f2, Delta, obj)` qui renvoie les caractéristiques d'une image (liste à deux éléments) d'un objet `obj` par un microscope dont la focale de l'objectif est `fobj`, celle des lentilles de l'oculaire `f2` et l'intervale optique `Delta`\n",
    "> 4. Pour des objets situé entre l'objectif et 2cm en amont de l'objectif, tracer deux graphiques donnant l'un la position de l'image finale en fonction de la position de l'objet et la taille de l'image finale en fonction de la taille de l'objet. En déduire visuellement où placer l'objet. (Ne pas hésiter à \"zoomer\").\n",
    "> 5. \\*Pour déterminer numériquement la position de l'objet, réaliser une recherche de 0 (par dichotomie à $10^{-6} cm$ près sur la position de l'objet) sur la fonction $Y(x_{obj}$ où $x_{obj}$ est la position de l'objet et $Y$ l'inverse de la position de l'image.\n",
    "> 6. Déterminer analytiquement la position de l'objet en déterminant successivement : la position du foyer principal objet de l'oculaire seule puis la position de l'objet.\n",
    "\n",
    "_Indications utiles_ :\n",
    "* Faire attention à ne pas confondre la position absolue sur un axe et une distance relative entre deux éléments.\n",
    "* Il faudra peut-être tracer $Y(x_{obj})$ pour choisir l'intervalle pour la dichotomie."
   ]
  },
  {
   "cell_type": "code",
   "execution_count": null,
   "id": "unknown-despite",
   "metadata": {},
   "outputs": [],
   "source": []
  }
 ],
 "metadata": {
  "kernelspec": {
   "display_name": "Python 3",
   "language": "python",
   "name": "python3"
  },
  "language_info": {
   "codemirror_mode": {
    "name": "ipython",
    "version": 3
   },
   "file_extension": ".py",
   "mimetype": "text/x-python",
   "name": "python",
   "nbconvert_exporter": "python",
   "pygments_lexer": "ipython3",
   "version": "3.9.2"
  }
 },
 "nbformat": 4,
 "nbformat_minor": 5
}
